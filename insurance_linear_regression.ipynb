
  {
   "cell_type": "code",
   "execution_count": 2,
   "id": "a07407e6",
   "metadata": {},
   "outputs": [],
   "source": [
    "insurance=pd.read_csv('new_insurance_data.csv')"
   ]
  },
  {
   "cell_type": "code",
   "execution_count": 3,
   "id": "e4e15f71",
   "metadata": {
    "scrolled": true
   },
   "outputs": [
    {
     "data": {
      "text/html": [
       "<div>\n",
       "<style scoped>\n",
       "    .dataframe tbody tr th:only-of-type {\n",
       "        vertical-align: middle;\n",
       "    }\n",
       "\n",
       "    .dataframe tbody tr th {\n",
       "        vertical-align: top;\n",
       "    }\n",
       "\n",
       "    .dataframe thead th {\n",
       "        text-align: right;\n",
       "    }\n",
       "</style>\n",
       "<table border=\"1\" class=\"dataframe\">\n",
       "  <thead>\n",
       "    <tr style=\"text-align: right;\">\n",
       "      <th></th>\n",
       "      <th>age</th>\n",
       "      <th>sex</th>\n",
       "      <th>bmi</th>\n",
       "      <th>children</th>\n",
       "      <th>smoker</th>\n",
       "      <th>Claim_Amount</th>\n",
       "      <th>past_consultations</th>\n",
       "      <th>num_of_steps</th>\n",
       "      <th>Hospital_expenditure</th>\n",
       "      <th>NUmber_of_past_hospitalizations</th>\n",
       "      <th>Anual_Salary</th>\n",
       "      <th>region</th>\n",
       "      <th>charges</th>\n",
       "    </tr>\n",
       "  </thead>\n",
       "  <tbody>\n",
       "    <tr>\n",
       "      <th>0</th>\n",
       "      <td>18.0</td>\n",
       "      <td>male</td>\n",
       "      <td>23.210</td>\n",
       "      <td>0.0</td>\n",
       "      <td>no</td>\n",
       "      <td>29087.54313</td>\n",
       "      <td>17.0</td>\n",
       "      <td>715428.0</td>\n",
       "      <td>4.720921e+06</td>\n",
       "      <td>0.0</td>\n",
       "      <td>5.578497e+07</td>\n",
       "      <td>southeast</td>\n",
       "      <td>1121.87390</td>\n",
       "    </tr>\n",
       "    <tr>\n",
       "      <th>1</th>\n",
       "      <td>18.0</td>\n",
       "      <td>male</td>\n",
       "      <td>30.140</td>\n",
       "      <td>0.0</td>\n",
       "      <td>no</td>\n",
       "      <td>39053.67437</td>\n",
       "      <td>7.0</td>\n",
       "      <td>699157.0</td>\n",
       "      <td>4.329832e+06</td>\n",
       "      <td>0.0</td>\n",
       "      <td>1.370089e+07</td>\n",
       "      <td>southeast</td>\n",
       "      <td>1131.50660</td>\n",
       "    </tr>\n",
       "    <tr>\n",
       "      <th>2</th>\n",
       "      <td>18.0</td>\n",
       "      <td>male</td>\n",
       "      <td>33.330</td>\n",
       "      <td>0.0</td>\n",
       "      <td>no</td>\n",
       "      <td>39023.62759</td>\n",
       "      <td>19.0</td>\n",
       "      <td>702341.0</td>\n",
       "      <td>6.884861e+06</td>\n",
       "      <td>0.0</td>\n",
       "      <td>7.352311e+07</td>\n",
       "      <td>southeast</td>\n",
       "      <td>1135.94070</td>\n",
       "    </tr>\n",
       "    <tr>\n",
       "      <th>3</th>\n",
       "      <td>18.0</td>\n",
       "      <td>male</td>\n",
       "      <td>33.660</td>\n",
       "      <td>0.0</td>\n",
       "      <td>no</td>\n",
       "      <td>28185.39332</td>\n",
       "      <td>11.0</td>\n",
       "      <td>700250.0</td>\n",
       "      <td>4.274774e+06</td>\n",
       "      <td>0.0</td>\n",
       "      <td>7.581968e+07</td>\n",
       "      <td>southeast</td>\n",
       "      <td>1136.39940</td>\n",
       "    </tr>\n",
       "    <tr>\n",
       "      <th>4</th>\n",
       "      <td>18.0</td>\n",
       "      <td>male</td>\n",
       "      <td>34.100</td>\n",
       "      <td>0.0</td>\n",
       "      <td>no</td>\n",
       "      <td>14697.85941</td>\n",
       "      <td>16.0</td>\n",
       "      <td>711584.0</td>\n",
       "      <td>3.787294e+06</td>\n",
       "      <td>0.0</td>\n",
       "      <td>2.301232e+07</td>\n",
       "      <td>southeast</td>\n",
       "      <td>1137.01100</td>\n",
       "    </tr>\n",
       "    <tr>\n",
       "      <th>...</th>\n",
       "      <td>...</td>\n",
       "      <td>...</td>\n",
       "      <td>...</td>\n",
       "      <td>...</td>\n",
       "      <td>...</td>\n",
       "      <td>...</td>\n",
       "      <td>...</td>\n",
       "      <td>...</td>\n",
       "      <td>...</td>\n",
       "      <td>...</td>\n",
       "      <td>...</td>\n",
       "      <td>...</td>\n",
       "      <td>...</td>\n",
       "    </tr>\n",
       "    <tr>\n",
       "      <th>1333</th>\n",
       "      <td>33.0</td>\n",
       "      <td>female</td>\n",
       "      <td>35.530</td>\n",
       "      <td>0.0</td>\n",
       "      <td>yes</td>\n",
       "      <td>63142.25346</td>\n",
       "      <td>32.0</td>\n",
       "      <td>1091267.0</td>\n",
       "      <td>1.703805e+08</td>\n",
       "      <td>2.0</td>\n",
       "      <td>3.101107e+09</td>\n",
       "      <td>northwest</td>\n",
       "      <td>55135.40209</td>\n",
       "    </tr>\n",
       "    <tr>\n",
       "      <th>1334</th>\n",
       "      <td>31.0</td>\n",
       "      <td>female</td>\n",
       "      <td>38.095</td>\n",
       "      <td>1.0</td>\n",
       "      <td>yes</td>\n",
       "      <td>43419.95227</td>\n",
       "      <td>31.0</td>\n",
       "      <td>1107872.0</td>\n",
       "      <td>2.015152e+08</td>\n",
       "      <td>2.0</td>\n",
       "      <td>3.484216e+09</td>\n",
       "      <td>northeast</td>\n",
       "      <td>58571.07448</td>\n",
       "    </tr>\n",
       "    <tr>\n",
       "      <th>1335</th>\n",
       "      <td>52.0</td>\n",
       "      <td>male</td>\n",
       "      <td>34.485</td>\n",
       "      <td>3.0</td>\n",
       "      <td>yes</td>\n",
       "      <td>52458.92353</td>\n",
       "      <td>25.0</td>\n",
       "      <td>1092005.0</td>\n",
       "      <td>2.236450e+08</td>\n",
       "      <td>2.0</td>\n",
       "      <td>3.640807e+09</td>\n",
       "      <td>northwest</td>\n",
       "      <td>60021.39897</td>\n",
       "    </tr>\n",
       "    <tr>\n",
       "      <th>1336</th>\n",
       "      <td>45.0</td>\n",
       "      <td>male</td>\n",
       "      <td>30.360</td>\n",
       "      <td>0.0</td>\n",
       "      <td>yes</td>\n",
       "      <td>69927.51664</td>\n",
       "      <td>34.0</td>\n",
       "      <td>1106821.0</td>\n",
       "      <td>2.528924e+08</td>\n",
       "      <td>3.0</td>\n",
       "      <td>4.006359e+09</td>\n",
       "      <td>southeast</td>\n",
       "      <td>62592.87309</td>\n",
       "    </tr>\n",
       "    <tr>\n",
       "      <th>1337</th>\n",
       "      <td>54.0</td>\n",
       "      <td>female</td>\n",
       "      <td>47.410</td>\n",
       "      <td>0.0</td>\n",
       "      <td>yes</td>\n",
       "      <td>63982.80926</td>\n",
       "      <td>31.0</td>\n",
       "      <td>1100328.0</td>\n",
       "      <td>2.616317e+08</td>\n",
       "      <td>3.0</td>\n",
       "      <td>4.117197e+09</td>\n",
       "      <td>southeast</td>\n",
       "      <td>63770.42801</td>\n",
       "    </tr>\n",
       "  </tbody>\n",
       "</table>\n",
       "<p>1338 rows × 13 columns</p>\n",
       "</div>"
      ],
      "text/plain": [
       "       age     sex     bmi  children smoker  Claim_Amount  past_consultations  \\\n",
       "0     18.0    male  23.210       0.0     no   29087.54313                17.0   \n",
       "1     18.0    male  30.140       0.0     no   39053.67437                 7.0   \n",
       "2     18.0    male  33.330       0.0     no   39023.62759                19.0   \n",
       "3     18.0    male  33.660       0.0     no   28185.39332                11.0   \n",
       "4     18.0    male  34.100       0.0     no   14697.85941                16.0   \n",
       "...    ...     ...     ...       ...    ...           ...                 ...   \n",
       "1333  33.0  female  35.530       0.0    yes   63142.25346                32.0   \n",
       "1334  31.0  female  38.095       1.0    yes   43419.95227                31.0   \n",
       "1335  52.0    male  34.485       3.0    yes   52458.92353                25.0   \n",
       "1336  45.0    male  30.360       0.0    yes   69927.51664                34.0   \n",
       "1337  54.0  female  47.410       0.0    yes   63982.80926                31.0   \n",
       "\n",
       "      num_of_steps  Hospital_expenditure  NUmber_of_past_hospitalizations  \\\n",
       "0         715428.0          4.720921e+06                              0.0   \n",
       "1         699157.0          4.329832e+06                              0.0   \n",
       "2         702341.0          6.884861e+06                              0.0   \n",
       "3         700250.0          4.274774e+06                              0.0   \n",
       "4         711584.0          3.787294e+06                              0.0   \n",
       "...            ...                   ...                              ...   \n",
       "1333     1091267.0          1.703805e+08                              2.0   \n",
       "1334     1107872.0          2.015152e+08                              2.0   \n",
       "1335     1092005.0          2.236450e+08                              2.0   \n",
       "1336     1106821.0          2.528924e+08                              3.0   \n",
       "1337     1100328.0          2.616317e+08                              3.0   \n",
       "\n",
       "      Anual_Salary     region      charges  \n",
       "0     5.578497e+07  southeast   1121.87390  \n",
       "1     1.370089e+07  southeast   1131.50660  \n",
       "2     7.352311e+07  southeast   1135.94070  \n",
       "3     7.581968e+07  southeast   1136.39940  \n",
       "4     2.301232e+07  southeast   1137.01100  \n",
       "...            ...        ...          ...  \n",
       "1333  3.101107e+09  northwest  55135.40209  \n",
       "1334  3.484216e+09  northeast  58571.07448  \n",
       "1335  3.640807e+09  northwest  60021.39897  \n",
       "1336  4.006359e+09  southeast  62592.87309  \n",
       "1337  4.117197e+09  southeast  63770.42801  \n",
       "\n",
       "[1338 rows x 13 columns]"
      ]
     },
     "execution_count": 3,
     "metadata": {},
     "output_type": "execute_result"
    }
   ],
   "source": [
    "insurance"
   ]
  },
  {
   "cell_type": "code",
   "execution_count": 4,
   "id": "60b2237c",
   "metadata": {},
   "outputs": [
    {
     "data": {
      "text/html": [
       "<div>\n",
       "<style scoped>\n",
       "    .dataframe tbody tr th:only-of-type {\n",
       "        vertical-align: middle;\n",
       "    }\n",
       "\n",
       "    .dataframe tbody tr th {\n",
       "        vertical-align: top;\n",
       "    }\n",
       "\n",
       "    .dataframe thead th {\n",
       "        text-align: right;\n",
       "    }\n",
       "</style>\n",
       "<table border=\"1\" class=\"dataframe\">\n",
       "  <thead>\n",
       "    <tr style=\"text-align: right;\">\n",
       "      <th></th>\n",
       "      <th>age</th>\n",
       "      <th>sex</th>\n",
       "      <th>bmi</th>\n",
       "      <th>children</th>\n",
       "      <th>smoker</th>\n",
       "      <th>Claim_Amount</th>\n",
       "      <th>past_consultations</th>\n",
       "      <th>num_of_steps</th>\n",
       "      <th>Hospital_expenditure</th>\n",
       "      <th>NUmber_of_past_hospitalizations</th>\n",
       "      <th>Anual_Salary</th>\n",
       "      <th>region</th>\n",
       "      <th>charges</th>\n",
       "    </tr>\n",
       "  </thead>\n",
       "  <tbody>\n",
       "    <tr>\n",
       "      <th>0</th>\n",
       "      <td>18.0</td>\n",
       "      <td>male</td>\n",
       "      <td>23.21</td>\n",
       "      <td>0.0</td>\n",
       "      <td>no</td>\n",
       "      <td>29087.54313</td>\n",
       "      <td>17.0</td>\n",
       "      <td>715428.0</td>\n",
       "      <td>4720920.992</td>\n",
       "      <td>0.0</td>\n",
       "      <td>55784970.05</td>\n",
       "      <td>southeast</td>\n",
       "      <td>1121.8739</td>\n",
       "    </tr>\n",
       "    <tr>\n",
       "      <th>1</th>\n",
       "      <td>18.0</td>\n",
       "      <td>male</td>\n",
       "      <td>30.14</td>\n",
       "      <td>0.0</td>\n",
       "      <td>no</td>\n",
       "      <td>39053.67437</td>\n",
       "      <td>7.0</td>\n",
       "      <td>699157.0</td>\n",
       "      <td>4329831.676</td>\n",
       "      <td>0.0</td>\n",
       "      <td>13700885.19</td>\n",
       "      <td>southeast</td>\n",
       "      <td>1131.5066</td>\n",
       "    </tr>\n",
       "    <tr>\n",
       "      <th>2</th>\n",
       "      <td>18.0</td>\n",
       "      <td>male</td>\n",
       "      <td>33.33</td>\n",
       "      <td>0.0</td>\n",
       "      <td>no</td>\n",
       "      <td>39023.62759</td>\n",
       "      <td>19.0</td>\n",
       "      <td>702341.0</td>\n",
       "      <td>6884860.774</td>\n",
       "      <td>0.0</td>\n",
       "      <td>73523107.27</td>\n",
       "      <td>southeast</td>\n",
       "      <td>1135.9407</td>\n",
       "    </tr>\n",
       "    <tr>\n",
       "      <th>3</th>\n",
       "      <td>18.0</td>\n",
       "      <td>male</td>\n",
       "      <td>33.66</td>\n",
       "      <td>0.0</td>\n",
       "      <td>no</td>\n",
       "      <td>28185.39332</td>\n",
       "      <td>11.0</td>\n",
       "      <td>700250.0</td>\n",
       "      <td>4274773.550</td>\n",
       "      <td>0.0</td>\n",
       "      <td>75819679.60</td>\n",
       "      <td>southeast</td>\n",
       "      <td>1136.3994</td>\n",
       "    </tr>\n",
       "    <tr>\n",
       "      <th>4</th>\n",
       "      <td>18.0</td>\n",
       "      <td>male</td>\n",
       "      <td>34.10</td>\n",
       "      <td>0.0</td>\n",
       "      <td>no</td>\n",
       "      <td>14697.85941</td>\n",
       "      <td>16.0</td>\n",
       "      <td>711584.0</td>\n",
       "      <td>3787293.921</td>\n",
       "      <td>0.0</td>\n",
       "      <td>23012320.01</td>\n",
       "      <td>southeast</td>\n",
       "      <td>1137.0110</td>\n",
       "    </tr>\n",
       "  </tbody>\n",
       "</table>\n",
       "</div>"
      ],
      "text/plain": [
       "    age   sex    bmi  children smoker  Claim_Amount  past_consultations  \\\n",
       "0  18.0  male  23.21       0.0     no   29087.54313                17.0   \n",
       "1  18.0  male  30.14       0.0     no   39053.67437                 7.0   \n",
       "2  18.0  male  33.33       0.0     no   39023.62759                19.0   \n",
       "3  18.0  male  33.66       0.0     no   28185.39332                11.0   \n",
       "4  18.0  male  34.10       0.0     no   14697.85941                16.0   \n",
       "\n",
       "   num_of_steps  Hospital_expenditure  NUmber_of_past_hospitalizations  \\\n",
       "0      715428.0           4720920.992                              0.0   \n",
       "1      699157.0           4329831.676                              0.0   \n",
       "2      702341.0           6884860.774                              0.0   \n",
       "3      700250.0           4274773.550                              0.0   \n",
       "4      711584.0           3787293.921                              0.0   \n",
       "\n",
       "   Anual_Salary     region    charges  \n",
       "0   55784970.05  southeast  1121.8739  \n",
       "1   13700885.19  southeast  1131.5066  \n",
       "2   73523107.27  southeast  1135.9407  \n",
       "3   75819679.60  southeast  1136.3994  \n",
       "4   23012320.01  southeast  1137.0110  "
      ]
     },
     "execution_count": 4,
     "metadata": {},
     "output_type": "execute_result"
    }
   ],
   "source": [
    "insurance.head()"
   ]
  },
  {
   "cell_type": "code",
   "execution_count": 5,
   "id": "89f06d2c",
   "metadata": {},
   "outputs": [
    {
     "data": {
      "text/plain": [
       "(1338, 13)"
      ]
     },
     "execution_count": 5,
     "metadata": {},
     "output_type": "execute_result"
    }
   ],
   "source": [
    "insurance.shape"
   ]
  },
  {
   "cell_type": "code",
   "execution_count": 6,
   "id": "06dd1c39",
   "metadata": {},
   "outputs": [
    {
     "name": "stdout",
     "output_type": "stream",
     "text": [
      "<class 'pandas.core.frame.DataFrame'>\n",
      "RangeIndex: 1338 entries, 0 to 1337\n",
      "Data columns (total 13 columns):\n",
      " #   Column                           Non-Null Count  Dtype  \n",
      "---  ------                           --------------  -----  \n",
      " 0   age                              1329 non-null   float64\n",
      " 1   sex                              1338 non-null   object \n",
      " 2   bmi                              1335 non-null   float64\n",
      " 3   children                         1333 non-null   float64\n",
      " 4   smoker                           1338 non-null   object \n",
      " 5   Claim_Amount                     1324 non-null   float64\n",
      " 6   past_consultations               1332 non-null   float64\n",
      " 7   num_of_steps                     1335 non-null   float64\n",
      " 8   Hospital_expenditure             1334 non-null   float64\n",
      " 9   NUmber_of_past_hospitalizations  1336 non-null   float64\n",
      " 10  Anual_Salary                     1332 non-null   float64\n",
      " 11  region                           1338 non-null   object \n",
      " 12  charges                          1338 non-null   float64\n",
      "dtypes: float64(10), object(3)\n",
      "memory usage: 136.0+ KB\n"
     ]
    }
   ],
   "source": [
    "insurance.info()"
   ]
  },
  {
   "cell_type": "code",
   "execution_count": 7,
   "id": "1208ffc3",
   "metadata": {},
   "outputs": [
    {
     "data": {
      "text/html": [
       "<div>\n",
       "<style scoped>\n",
       "    .dataframe tbody tr th:only-of-type {\n",
       "        vertical-align: middle;\n",
       "    }\n",
       "\n",
       "    .dataframe tbody tr th {\n",
       "        vertical-align: top;\n",
       "    }\n",
       "\n",
       "    .dataframe thead th {\n",
       "        text-align: right;\n",
       "    }\n",
       "</style>\n",
       "<table border=\"1\" class=\"dataframe\">\n",
       "  <thead>\n",
       "    <tr style=\"text-align: right;\">\n",
       "      <th></th>\n",
       "      <th>age</th>\n",
       "      <th>bmi</th>\n",
       "      <th>children</th>\n",
       "      <th>Claim_Amount</th>\n",
       "      <th>past_consultations</th>\n",
       "      <th>num_of_steps</th>\n",
       "      <th>Hospital_expenditure</th>\n",
       "      <th>NUmber_of_past_hospitalizations</th>\n",
       "      <th>Anual_Salary</th>\n",
       "      <th>charges</th>\n",
       "    </tr>\n",
       "  </thead>\n",
       "  <tbody>\n",
       "    <tr>\n",
       "      <th>count</th>\n",
       "      <td>1329.000000</td>\n",
       "      <td>1335.000000</td>\n",
       "      <td>1333.000000</td>\n",
       "      <td>1324.000000</td>\n",
       "      <td>1332.000000</td>\n",
       "      <td>1.335000e+03</td>\n",
       "      <td>1.334000e+03</td>\n",
       "      <td>1336.000000</td>\n",
       "      <td>1.332000e+03</td>\n",
       "      <td>1338.000000</td>\n",
       "    </tr>\n",
       "    <tr>\n",
       "      <th>mean</th>\n",
       "      <td>39.310008</td>\n",
       "      <td>30.665112</td>\n",
       "      <td>1.090773</td>\n",
       "      <td>33361.327180</td>\n",
       "      <td>15.216216</td>\n",
       "      <td>9.100047e+05</td>\n",
       "      <td>1.584179e+07</td>\n",
       "      <td>1.060629</td>\n",
       "      <td>3.696849e+08</td>\n",
       "      <td>13270.422265</td>\n",
       "    </tr>\n",
       "    <tr>\n",
       "      <th>std</th>\n",
       "      <td>14.034818</td>\n",
       "      <td>6.101690</td>\n",
       "      <td>1.201856</td>\n",
       "      <td>15617.288337</td>\n",
       "      <td>7.467723</td>\n",
       "      <td>9.188612e+04</td>\n",
       "      <td>2.669305e+07</td>\n",
       "      <td>0.533583</td>\n",
       "      <td>5.668843e+08</td>\n",
       "      <td>12110.011237</td>\n",
       "    </tr>\n",
       "    <tr>\n",
       "      <th>min</th>\n",
       "      <td>18.000000</td>\n",
       "      <td>15.960000</td>\n",
       "      <td>0.000000</td>\n",
       "      <td>1920.136268</td>\n",
       "      <td>1.000000</td>\n",
       "      <td>6.954300e+05</td>\n",
       "      <td>2.945253e+04</td>\n",
       "      <td>0.000000</td>\n",
       "      <td>2.747072e+06</td>\n",
       "      <td>1121.873900</td>\n",
       "    </tr>\n",
       "    <tr>\n",
       "      <th>25%</th>\n",
       "      <td>27.000000</td>\n",
       "      <td>26.302500</td>\n",
       "      <td>0.000000</td>\n",
       "      <td>20768.860390</td>\n",
       "      <td>9.000000</td>\n",
       "      <td>8.471995e+05</td>\n",
       "      <td>4.077633e+06</td>\n",
       "      <td>1.000000</td>\n",
       "      <td>7.701932e+07</td>\n",
       "      <td>4740.287150</td>\n",
       "    </tr>\n",
       "    <tr>\n",
       "      <th>50%</th>\n",
       "      <td>39.000000</td>\n",
       "      <td>30.400000</td>\n",
       "      <td>1.000000</td>\n",
       "      <td>33700.310675</td>\n",
       "      <td>15.000000</td>\n",
       "      <td>9.143000e+05</td>\n",
       "      <td>7.490337e+06</td>\n",
       "      <td>1.000000</td>\n",
       "      <td>1.419361e+08</td>\n",
       "      <td>9382.033000</td>\n",
       "    </tr>\n",
       "    <tr>\n",
       "      <th>75%</th>\n",
       "      <td>51.000000</td>\n",
       "      <td>34.687500</td>\n",
       "      <td>2.000000</td>\n",
       "      <td>45052.331957</td>\n",
       "      <td>20.000000</td>\n",
       "      <td>9.716840e+05</td>\n",
       "      <td>1.084082e+07</td>\n",
       "      <td>1.000000</td>\n",
       "      <td>3.243499e+08</td>\n",
       "      <td>16639.912515</td>\n",
       "    </tr>\n",
       "    <tr>\n",
       "      <th>max</th>\n",
       "      <td>64.000000</td>\n",
       "      <td>53.130000</td>\n",
       "      <td>5.000000</td>\n",
       "      <td>77277.988480</td>\n",
       "      <td>40.000000</td>\n",
       "      <td>1.107872e+06</td>\n",
       "      <td>2.616317e+08</td>\n",
       "      <td>3.000000</td>\n",
       "      <td>4.117197e+09</td>\n",
       "      <td>63770.428010</td>\n",
       "    </tr>\n",
       "  </tbody>\n",
       "</table>\n",
       "</div>"
      ],
      "text/plain": [
       "               age          bmi     children  Claim_Amount  \\\n",
       "count  1329.000000  1335.000000  1333.000000   1324.000000   \n",
       "mean     39.310008    30.665112     1.090773  33361.327180   \n",
       "std      14.034818     6.101690     1.201856  15617.288337   \n",
       "min      18.000000    15.960000     0.000000   1920.136268   \n",
       "25%      27.000000    26.302500     0.000000  20768.860390   \n",
       "50%      39.000000    30.400000     1.000000  33700.310675   \n",
       "75%      51.000000    34.687500     2.000000  45052.331957   \n",
       "max      64.000000    53.130000     5.000000  77277.988480   \n",
       "\n",
       "       past_consultations  num_of_steps  Hospital_expenditure  \\\n",
       "count         1332.000000  1.335000e+03          1.334000e+03   \n",
       "mean            15.216216  9.100047e+05          1.584179e+07   \n",
       "std              7.467723  9.188612e+04          2.669305e+07   \n",
       "min              1.000000  6.954300e+05          2.945253e+04   \n",
       "25%              9.000000  8.471995e+05          4.077633e+06   \n",
       "50%             15.000000  9.143000e+05          7.490337e+06   \n",
       "75%             20.000000  9.716840e+05          1.084082e+07   \n",
       "max             40.000000  1.107872e+06          2.616317e+08   \n",
       "\n",
       "       NUmber_of_past_hospitalizations  Anual_Salary       charges  \n",
       "count                      1336.000000  1.332000e+03   1338.000000  \n",
       "mean                          1.060629  3.696849e+08  13270.422265  \n",
       "std                           0.533583  5.668843e+08  12110.011237  \n",
       "min                           0.000000  2.747072e+06   1121.873900  \n",
       "25%                           1.000000  7.701932e+07   4740.287150  \n",
       "50%                           1.000000  1.419361e+08   9382.033000  \n",
       "75%                           1.000000  3.243499e+08  16639.912515  \n",
       "max                           3.000000  4.117197e+09  63770.428010  "
      ]
     },
     "execution_count": 7,
     "metadata": {},
     "output_type": "execute_result"
    }
   ],
   "source": [
    "insurance.describe()"
   ]
  },
  {
   "cell_type": "code",
   "execution_count": 8,
   "id": "bf01ef24",
   "metadata": {},
   "outputs": [
    {
     "data": {
      "text/html": [
       "<div>\n",
       "<style scoped>\n",
       "    .dataframe tbody tr th:only-of-type {\n",
       "        vertical-align: middle;\n",
       "    }\n",
       "\n",
       "    .dataframe tbody tr th {\n",
       "        vertical-align: top;\n",
       "    }\n",
       "\n",
       "    .dataframe thead th {\n",
       "        text-align: right;\n",
       "    }\n",
       "</style>\n",
       "<table border=\"1\" class=\"dataframe\">\n",
       "  <thead>\n",
       "    <tr style=\"text-align: right;\">\n",
       "      <th></th>\n",
       "      <th>age</th>\n",
       "      <th>sex</th>\n",
       "      <th>bmi</th>\n",
       "      <th>children</th>\n",
       "      <th>smoker</th>\n",
       "      <th>Claim_Amount</th>\n",
       "      <th>past_consultations</th>\n",
       "      <th>num_of_steps</th>\n",
       "      <th>Hospital_expenditure</th>\n",
       "      <th>NUmber_of_past_hospitalizations</th>\n",
       "      <th>Anual_Salary</th>\n",
       "      <th>region</th>\n",
       "      <th>charges</th>\n",
       "    </tr>\n",
       "  </thead>\n",
       "  <tbody>\n",
       "    <tr>\n",
       "      <th>1333</th>\n",
       "      <td>33.0</td>\n",
       "      <td>female</td>\n",
       "      <td>35.530</td>\n",
       "      <td>0.0</td>\n",
       "      <td>yes</td>\n",
       "      <td>63142.25346</td>\n",
       "      <td>32.0</td>\n",
       "      <td>1091267.0</td>\n",
       "      <td>170380500.5</td>\n",
       "      <td>2.0</td>\n",
       "      <td>3.101107e+09</td>\n",
       "      <td>northwest</td>\n",
       "      <td>55135.40209</td>\n",
       "    </tr>\n",
       "    <tr>\n",
       "      <th>1334</th>\n",
       "      <td>31.0</td>\n",
       "      <td>female</td>\n",
       "      <td>38.095</td>\n",
       "      <td>1.0</td>\n",
       "      <td>yes</td>\n",
       "      <td>43419.95227</td>\n",
       "      <td>31.0</td>\n",
       "      <td>1107872.0</td>\n",
       "      <td>201515184.8</td>\n",
       "      <td>2.0</td>\n",
       "      <td>3.484216e+09</td>\n",
       "      <td>northeast</td>\n",
       "      <td>58571.07448</td>\n",
       "    </tr>\n",
       "    <tr>\n",
       "      <th>1335</th>\n",
       "      <td>52.0</td>\n",
       "      <td>male</td>\n",
       "      <td>34.485</td>\n",
       "      <td>3.0</td>\n",
       "      <td>yes</td>\n",
       "      <td>52458.92353</td>\n",
       "      <td>25.0</td>\n",
       "      <td>1092005.0</td>\n",
       "      <td>223644981.3</td>\n",
       "      <td>2.0</td>\n",
       "      <td>3.640807e+09</td>\n",
       "      <td>northwest</td>\n",
       "      <td>60021.39897</td>\n",
       "    </tr>\n",
       "    <tr>\n",
       "      <th>1336</th>\n",
       "      <td>45.0</td>\n",
       "      <td>male</td>\n",
       "      <td>30.360</td>\n",
       "      <td>0.0</td>\n",
       "      <td>yes</td>\n",
       "      <td>69927.51664</td>\n",
       "      <td>34.0</td>\n",
       "      <td>1106821.0</td>\n",
       "      <td>252892382.6</td>\n",
       "      <td>3.0</td>\n",
       "      <td>4.006359e+09</td>\n",
       "      <td>southeast</td>\n",
       "      <td>62592.87309</td>\n",
       "    </tr>\n",
       "    <tr>\n",
       "      <th>1337</th>\n",
       "      <td>54.0</td>\n",
       "      <td>female</td>\n",
       "      <td>47.410</td>\n",
       "      <td>0.0</td>\n",
       "      <td>yes</td>\n",
       "      <td>63982.80926</td>\n",
       "      <td>31.0</td>\n",
       "      <td>1100328.0</td>\n",
       "      <td>261631699.3</td>\n",
       "      <td>3.0</td>\n",
       "      <td>4.117197e+09</td>\n",
       "      <td>southeast</td>\n",
       "      <td>63770.42801</td>\n",
       "    </tr>\n",
       "  </tbody>\n",
       "</table>\n",
       "</div>"
      ],
      "text/plain": [
       "       age     sex     bmi  children smoker  Claim_Amount  past_consultations  \\\n",
       "1333  33.0  female  35.530       0.0    yes   63142.25346                32.0   \n",
       "1334  31.0  female  38.095       1.0    yes   43419.95227                31.0   \n",
       "1335  52.0    male  34.485       3.0    yes   52458.92353                25.0   \n",
       "1336  45.0    male  30.360       0.0    yes   69927.51664                34.0   \n",
       "1337  54.0  female  47.410       0.0    yes   63982.80926                31.0   \n",
       "\n",
       "      num_of_steps  Hospital_expenditure  NUmber_of_past_hospitalizations  \\\n",
       "1333     1091267.0           170380500.5                              2.0   \n",
       "1334     1107872.0           201515184.8                              2.0   \n",
       "1335     1092005.0           223644981.3                              2.0   \n",
       "1336     1106821.0           252892382.6                              3.0   \n",
       "1337     1100328.0           261631699.3                              3.0   \n",
       "\n",
       "      Anual_Salary     region      charges  \n",
       "1333  3.101107e+09  northwest  55135.40209  \n",
       "1334  3.484216e+09  northeast  58571.07448  \n",
       "1335  3.640807e+09  northwest  60021.39897  \n",
       "1336  4.006359e+09  southeast  62592.87309  \n",
       "1337  4.117197e+09  southeast  63770.42801  "
      ]
     },
     "execution_count": 8,
     "metadata": {},
     "output_type": "execute_result"
    }
   ],
   "source": [
    "insurance.tail()"
   ]
  },
  {
   "cell_type": "code",
   "execution_count": 9,
   "id": "d762fe7b",
   "metadata": {},
   "outputs": [
    {
     "data": {
      "text/plain": [
       "age                                 9\n",
       "sex                                 0\n",
       "bmi                                 3\n",
       "children                            5\n",
       "smoker                              0\n",
       "Claim_Amount                       14\n",
       "past_consultations                  6\n",
       "num_of_steps                        3\n",
       "Hospital_expenditure                4\n",
       "NUmber_of_past_hospitalizations     2\n",
       "Anual_Salary                        6\n",
       "region                              0\n",
       "charges                             0\n",
       "dtype: int64"
      ]
     },
     "execution_count": 9,
     "metadata": {},
     "output_type": "execute_result"
    }
   ],
   "source": [
    "insurance.isnull().sum()"
   ]
  },
  {
   "cell_type": "code",
   "execution_count": 11,
   "id": "da059307",
   "metadata": {},
   "outputs": [
    {
     "data": {
      "text/plain": [
       "no     1064\n",
       "yes     274\n",
       "Name: smoker, dtype: int64"
      ]
     },
     "execution_count": 11,
     "metadata": {},
     "output_type": "execute_result"
    }
   ],
   "source": [
    "insurance['smoker'].value_counts()"
   ]
  },
  {
   "cell_type": "code",
   "execution_count": 12,
   "id": "6f0f5903",
   "metadata": {},
   "outputs": [
    {
     "data": {
      "text/plain": [
       "0    no\n",
       "Name: smoker, dtype: object"
      ]
     },
     "execution_count": 12,
     "metadata": {},
     "output_type": "execute_result"
    }
   ],
   "source": [
    "insurance['smoker'].mode()"
   ]
  },
  {
   "cell_type": "code",
   "execution_count": 13,
   "id": "aee25330",
   "metadata": {},
   "outputs": [
    {
     "data": {
      "text/plain": [
       "'no'"
      ]
     },
     "execution_count": 13,
     "metadata": {},
     "output_type": "execute_result"
    }
   ],
   "source": [
    "insurance['smoker'].mode()[0]"
   ]
  },
  {
   "cell_type": "code",
   "execution_count": 15,
   "id": "43934c7e",
   "metadata": {},
   "outputs": [
    {
     "data": {
      "text/plain": [
       "1.0907726931732933"
      ]
     },
     "execution_count": 15,
     "metadata": {},
     "output_type": "execute_result"
    }
   ],
   "source": [
    "insurance['children'].mean()"
   ]
  },
  {
   "cell_type": "code",
   "execution_count": 16,
   "id": "8787a2e7",
   "metadata": {},
   "outputs": [
    {
     "data": {
      "text/plain": [
       "39.0"
      ]
     },
     "execution_count": 16,
     "metadata": {},
     "output_type": "execute_result"
    }
   ],
   "source": [
    "insurance['age'].median()"
   ]
  },
  {
   "cell_type": "code",
   "execution_count": 18,
   "id": "93580816",
   "metadata": {},
   "outputs": [
    {
     "data": {
      "text/plain": [
       "dtype('float64')"
      ]
     },
     "execution_count": 18,
     "metadata": {},
     "output_type": "execute_result"
    }
   ],
   "source": [
    "insurance['age'].dtype"
   ]
  },
  {
   "cell_type": "code",
   "execution_count": 19,
   "id": "d2d523b6",
   "metadata": {},
   "outputs": [
    {
     "data": {
      "text/plain": [
       "Index(['age', 'sex', 'bmi', 'children', 'smoker', 'Claim_Amount',\n",
       "       'past_consultations', 'num_of_steps', 'Hospital_expenditure',\n",
       "       'NUmber_of_past_hospitalizations', 'Anual_Salary', 'region', 'charges'],\n",
       "      dtype='object')"
      ]
     },
     "execution_count": 19,
     "metadata": {},
     "output_type": "execute_result"
    }
   ],
   "source": [
    "col=insurance.columns\n",
    "col"
   ]
  },
  {
   "cell_type": "code",
   "execution_count": 21,
   "id": "f3c58f8e",
   "metadata": {},
   "outputs": [],
   "source": [
    "for col_name in col:\n",
    "    if insurance[col_name].dtype== \"object\":\n",
    "        insurance[col_name]= insurance[col_name].fillna(insurance[col_name].mode()[0])\n",
    "    else:\n",
    "        insurance[col_name] = insurance[col_name].fillna(insurance[col_name].mean())"
   ]
  },
  {
   "cell_type": "code",
   "execution_count": 22,
   "id": "430007cb",
   "metadata": {},
   "outputs": [
    {
     "data": {
      "text/plain": [
       "age                                0\n",
       "sex                                0\n",
       "bmi                                0\n",
       "children                           0\n",
       "smoker                             0\n",
       "Claim_Amount                       0\n",
       "past_consultations                 0\n",
       "num_of_steps                       0\n",
       "Hospital_expenditure               0\n",
       "NUmber_of_past_hospitalizations    0\n",
       "Anual_Salary                       0\n",
       "region                             0\n",
       "charges                            0\n",
       "dtype: int64"
      ]
     },
     "execution_count": 22,
     "metadata": {},
     "output_type": "execute_result"
    }
   ],
   "source": [
    "insurance.isnull().sum()"
   ]
  },
  {
   "cell_type": "code",
   "execution_count": 25,
   "id": "2da24242",
   "metadata": {},
   "outputs": [
    {
     "data": {
      "text/plain": [
       "Index(['age', 'bmi', 'children', 'Claim_Amount', 'past_consultations',\n",
       "       'num_of_steps', 'Hospital_expenditure',\n",
       "       'NUmber_of_past_hospitalizations', 'Anual_Salary', 'charges'],\n",
       "      dtype='object')"
      ]
     },
     "execution_count": 25,
     "metadata": {},
     "output_type": "execute_result"
    }
   ],
   "source": [
    "col1=insurance.select_dtypes(include=['int','float']).columns\n",
    "col1"
   ]
  },
  {
   "cell_type": "code",
   "execution_count": 26,
   "id": "d8f6eae9",
   "metadata": {},
   "outputs": [
    {
     "data": {
      "image/png": "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",
      "text/plain": [
       "<Figure size 640x480 with 1 Axes>"
      ]
     },
     "metadata": {},
     "output_type": "display_data"
    },
    {
     "data": {
      "image/png": "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",
      "text/plain": [
       "<Figure size 640x480 with 1 Axes>"
      ]
     },
     "metadata": {},
     "output_type": "display_data"
    },
    {
     "data": {
      "image/png": "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",
      "text/plain": [
       "<Figure size 640x480 with 1 Axes>"
      ]
     },
     "metadata": {},
     "output_type": "display_data"
    },
    {
     "data": {
      "image/png": "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",
      "text/plain": [
       "<Figure size 640x480 with 1 Axes>"
      ]
     },
     "metadata": {},
     "output_type": "display_data"
    },
    {
     "data": {
      "image/png": "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",
      "text/plain": [
       "<Figure size 640x480 with 1 Axes>"
      ]
     },
     "metadata": {},
     "output_type": "display_data"
    },
    {
     "data": {
      "image/png": "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",
      "text/plain": [
       "<Figure size 640x480 with 1 Axes>"
      ]
     },
     "metadata": {},
     "output_type": "display_data"
    },
    {
     "data": {
      "image/png": "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",
      "text/plain": [
       "<Figure size 640x480 with 1 Axes>"
      ]
     },
     "metadata": {},
     "output_type": "display_data"
    },
    {
     "data": {
      "image/png": "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",
      "text/plain": [
       "<Figure size 640x480 with 1 Axes>"
      ]
     },
     "metadata": {},
     "output_type": "display_data"
    },
    {
     "data": {
      "image/png": "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",
      "text/plain": [
       "<Figure size 640x480 with 1 Axes>"
      ]
     },
     "metadata": {},
     "output_type": "display_data"
    },
    {
     "data": {
      "image/png": "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",
      "text/plain": [
       "<Figure size 640x480 with 1 Axes>"
      ]
     },
     "metadata": {},
     "output_type": "display_data"
    }
   ],
   "source": [
    "for col_name in col1:\n",
    "    sns.boxplot(insurance[col_name])\n",
    "    plt.show()"
   ]
  },
  {
   "cell_type": "code",
   "execution_count": null,
   "id": "7356dfe5",
   "metadata": {},
   "outputs": [],
   "source": []
  }
 ],
 "metadata": {
  "kernelspec": {
   "display_name": "Python 3 (ipykernel)",
   "language": "python",
   "name": "python3"
  },
  "language_info": {
   "codemirror_mode": {
    "name": "ipython",
    "version": 3
   },
   "file_extension": ".py",
   "mimetype": "text/x-python",
   "name": "python",
   "nbconvert_exporter": "python",
   "pygments_lexer": "ipython3",
   "version": "3.11.4"
  }
 },
 "nbformat": 4,
 "nbformat_minor": 5
}
